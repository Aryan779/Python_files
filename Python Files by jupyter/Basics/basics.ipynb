{
 "cells": [
  {
   "cell_type": "markdown",
   "metadata": {},
   "source": [
    "# Basics of Python"
   ]
  },
  {
   "cell_type": "code",
   "execution_count": null,
   "metadata": {},
   "outputs": [],
   "source": [
    "print(\"Hello World\")"
   ]
  },
  {
   "cell_type": "markdown",
   "metadata": {},
   "source": [
    "Using and reassigning variables"
   ]
  },
  {
   "cell_type": "code",
   "execution_count": null,
   "metadata": {},
   "outputs": [],
   "source": [
    "a=\"Aryan\"\n",
    "print(a)"
   ]
  },
  {
   "cell_type": "code",
   "execution_count": null,
   "metadata": {},
   "outputs": [],
   "source": [
    "a=\"Hello World\"\n",
    "print(a)"
   ]
  },
  {
   "cell_type": "code",
   "execution_count": 3,
   "metadata": {},
   "outputs": [
    {
     "data": {
      "text/plain": [
       "str"
      ]
     },
     "execution_count": 3,
     "metadata": {},
     "output_type": "execute_result"
    }
   ],
   "source": [
    "#using type(), it prints out the data type of the variable \n",
    "a=\"Aryan\"\n",
    "type(a)"
   ]
  },
  {
   "cell_type": "code",
   "execution_count": 3,
   "metadata": {},
   "outputs": [
    {
     "name": "stdout",
     "output_type": "stream",
     "text": [
      "140723511175296\n"
     ]
    }
   ],
   "source": [
    "#how to find address of a variable\n",
    "# id() is the function used to give the address of the given variable\n",
    "var=12\n",
    "print(id(12))"
   ]
  },
  {
   "cell_type": "code",
   "execution_count": 4,
   "metadata": {},
   "outputs": [
    {
     "data": {
      "text/plain": [
       "int"
      ]
     },
     "execution_count": 4,
     "metadata": {},
     "output_type": "execute_result"
    }
   ],
   "source": [
    "b=10\n",
    "type(b)"
   ]
  },
  {
   "cell_type": "code",
   "execution_count": null,
   "metadata": {},
   "outputs": [],
   "source": [
    "#addition\n",
    "4+3"
   ]
  },
  {
   "cell_type": "code",
   "execution_count": null,
   "metadata": {},
   "outputs": [],
   "source": [
    "#multiplication\n",
    "4*2"
   ]
  },
  {
   "cell_type": "code",
   "execution_count": 2,
   "metadata": {},
   "outputs": [
    {
     "name": "stdout",
     "output_type": "stream",
     "text": [
      "64\n"
     ]
    }
   ],
   "source": [
    "#using powers and exponents \n",
    "a=4**3 #it is considered as 4 power 3(4^)\n",
    "print(a)"
   ]
  },
  {
   "cell_type": "markdown",
   "metadata": {},
   "source": [
    "# Strings\n"
   ]
  },
  {
   "cell_type": "code",
   "execution_count": 1,
   "metadata": {},
   "outputs": [
    {
     "name": "stdout",
     "output_type": "stream",
     "text": [
      "Aryan Patel\n",
      "Aryan\n",
      "Patel\n"
     ]
    }
   ],
   "source": [
    "#how to print in a same line\n",
    "print(\"Aryan\",end=\" \")\n",
    "print(\"Patel\")\n",
    "\n",
    "print(\"Aryan\")\n",
    "print(\"Patel\")"
   ]
  },
  {
   "cell_type": "code",
   "execution_count": null,
   "metadata": {},
   "outputs": [],
   "source": [
    "#string indexing\n",
    "d=\"Aryan\"\n",
    "print(d[ :2])"
   ]
  },
  {
   "cell_type": "code",
   "execution_count": null,
   "metadata": {},
   "outputs": [],
   "source": [
    "c=\"Aryan\"\n",
    "c[2:]"
   ]
  },
  {
   "cell_type": "code",
   "execution_count": null,
   "metadata": {},
   "outputs": [],
   "source": [
    "e=\"Aryan\"\n",
    "c[:3]"
   ]
  },
  {
   "cell_type": "code",
   "execution_count": null,
   "metadata": {},
   "outputs": [],
   "source": [
    "p=\"Aryan\"\n",
    "p[1:2]"
   ]
  },
  {
   "cell_type": "code",
   "execution_count": null,
   "metadata": {},
   "outputs": [],
   "source": [
    "s1=\"Aryan\"\n",
    "s2=\"Patel\"\n",
    "print(s1+s2)"
   ]
  },
  {
   "cell_type": "code",
   "execution_count": 1,
   "metadata": {},
   "outputs": [
    {
     "ename": "TypeError",
     "evalue": "can only concatenate str (not \"int\") to str",
     "output_type": "error",
     "traceback": [
      "\u001b[1;31m---------------------------------------------------------------------------\u001b[0m",
      "\u001b[1;31mTypeError\u001b[0m                                 Traceback (most recent call last)",
      "\u001b[1;32m<ipython-input-1-19664238142a>\u001b[0m in \u001b[0;36m<module>\u001b[1;34m\u001b[0m\n\u001b[0;32m      1\u001b[0m \u001b[1;31m#important to note\u001b[0m\u001b[1;33m\u001b[0m\u001b[1;33m\u001b[0m\u001b[1;33m\u001b[0m\u001b[0m\n\u001b[0;32m      2\u001b[0m \u001b[0ma\u001b[0m\u001b[1;33m=\u001b[0m\u001b[1;36m1\u001b[0m\u001b[1;33m\u001b[0m\u001b[1;33m\u001b[0m\u001b[0m\n\u001b[1;32m----> 3\u001b[1;33m \u001b[0mprint\u001b[0m\u001b[1;33m(\u001b[0m\u001b[1;34m\"Aryan\"\u001b[0m\u001b[1;33m+\u001b[0m \u001b[0ma\u001b[0m\u001b[1;33m)\u001b[0m\u001b[1;33m\u001b[0m\u001b[1;33m\u001b[0m\u001b[0m\n\u001b[0m\u001b[0;32m      4\u001b[0m \u001b[1;31m#you will get an error\u001b[0m\u001b[1;33m\u001b[0m\u001b[1;33m\u001b[0m\u001b[1;33m\u001b[0m\u001b[0m\n",
      "\u001b[1;31mTypeError\u001b[0m: can only concatenate str (not \"int\") to str"
     ]
    }
   ],
   "source": [
    "#important to note \n",
    "a=1\n",
    "print(\"Aryan\"+ a)\n",
    "#you will get an error"
   ]
  },
  {
   "cell_type": "code",
   "execution_count": 12,
   "metadata": {},
   "outputs": [
    {
     "name": "stdout",
     "output_type": "stream",
     "text": [
      "Aryan1\n"
     ]
    }
   ],
   "source": [
    "#you can do like these\n",
    "a=1\n",
    "print(\"Aryan\"+str(a))#str() is used to convert to strings"
   ]
  },
  {
   "cell_type": "code",
   "execution_count": null,
   "metadata": {},
   "outputs": [],
   "source": [
    "a1=\"Aryan\"\n",
    "a2=\"Patel\"\n",
    "print(a1+\"Hemant\"+a2)\n",
    "#you can add spaces like a1+\" \"+\"Hemant\"+\" \"+a2 or\n",
    "#a1+\" Hemant \"+a2"
   ]
  },
  {
   "cell_type": "code",
   "execution_count": null,
   "metadata": {},
   "outputs": [],
   "source": [
    "b1=\"aryan\"\n",
    "print(b1.title())\n",
    "#using title() first letter will become capital and rest all will be small"
   ]
  },
  {
   "cell_type": "code",
   "execution_count": null,
   "metadata": {},
   "outputs": [],
   "source": [
    "d1=\"same\"\n",
    "print(d1.upper())\n",
    "#using upper() written string letters will be all in capital case"
   ]
  },
  {
   "cell_type": "code",
   "execution_count": null,
   "metadata": {},
   "outputs": [],
   "source": [
    "d2=\"DEJAVU\"\n",
    "print(d2.lower())\n",
    "#using lower() written string letters will be all in small case"
   ]
  },
  {
   "cell_type": "code",
   "execution_count": null,
   "metadata": {},
   "outputs": [],
   "source": [
    "d3=\"aRyan\"\n",
    "print(d3.title())\n",
    "print(d3.upper())\n",
    "print(d3.lower())"
   ]
  },
  {
   "cell_type": "code",
   "execution_count": null,
   "metadata": {},
   "outputs": [],
   "source": [
    "d4=\" Aryan is crazy \"\n",
    "print(d4)\n",
    "print(d4+\"shsdfhusfh\")\n",
    "print(d4.strip())            #will remove spaces all left and right\n",
    "print(\"Intro\"+d4.strip()+\"about coding\")\n",
    "print(d4.lstrip())                    #will remve spaces from left\n",
    "print(\"Intro\"+d4.lstrip()+\"about coding\")\n",
    "print(d4.rstrip())\n",
    "print(\"Intro\"+d4.rstrip()+\"about coding\")"
   ]
  },
  {
   "cell_type": "code",
   "execution_count": 5,
   "metadata": {},
   "outputs": [
    {
     "name": "stdout",
     "output_type": "stream",
     "text": [
      "Enter String: aryan\n",
      "aryan\n",
      "5\n"
     ]
    }
   ],
   "source": [
    "a=input(\"Enter String: \")\n",
    "print(a)\n",
    "#len() is used for finding the length of string\n",
    "b=len(a)\n",
    "print(b)\n"
   ]
  },
  {
   "cell_type": "code",
   "execution_count": 12,
   "metadata": {},
   "outputs": [
    {
     "name": "stdout",
     "output_type": "stream",
     "text": [
      "Aryan \n",
      " Juhil \n",
      " Parth\n"
     ]
    }
   ],
   "source": [
    "# \\n for new line\n",
    "print(\"Aryan \\n Juhil \\n Parth\")"
   ]
  },
  {
   "cell_type": "markdown",
   "metadata": {},
   "source": [
    "# String Formatting"
   ]
  },
  {
   "cell_type": "code",
   "execution_count": null,
   "metadata": {},
   "outputs": [],
   "source": [
    "# %s --> strings\n",
    "# %d --> integer\n",
    "# %f --> floating point numbers \n",
    "# %b --> binary format"
   ]
  },
  {
   "cell_type": "code",
   "execution_count": 9,
   "metadata": {},
   "outputs": [
    {
     "name": "stdout",
     "output_type": "stream",
     "text": [
      "Aryan Patel is NIT\n",
      "My age\n",
      " is 23\n",
      "Misha walked and looked around\n",
      "Aryan walked and jogged around\n",
      "PI value is 3.140000\n",
      "PI value is   3.1\n",
      "PI value is 3.14\n"
     ]
    }
   ],
   "source": [
    "#Formatting with % Operator\n",
    "print(\"Aryan Patel is %s\" %'NIT')\n",
    "print(\"My age is %d\" %23)\n",
    "\n",
    "x = 'looked'\n",
    "print(\"Misha %s and %s around\" %('walked',x))\n",
    "\n",
    "x=\"jogged\"\n",
    "c=\"Aryan %s and %s around\" %('walked',x)\n",
    "print(c)\n",
    "\n",
    "print(\"PI value is %f\" %3.14)\n",
    "print(\"PI value is %5.1f\" %3.14) \n",
    "print(\"PI value is %3.2f\" %3.14)"
   ]
  },
  {
   "cell_type": "code",
   "execution_count": null,
   "metadata": {},
   "outputs": [],
   "source": [
    "# by using .format()"
   ]
  },
  {
   "cell_type": "code",
   "execution_count": 15,
   "metadata": {},
   "outputs": [
    {
     "name": "stdout",
     "output_type": "stream",
     "text": [
      "Aryan Patel\n",
      "NIT Patel Aryan\n",
      "We are Humans,homosapeans and mammals\n"
     ]
    }
   ],
   "source": [
    "print(\"Aryan {}\".format('Patel'))\n",
    "#using keywords\n",
    "print(\"{2} {1} {0}\".format('Aryan','Patel','NIT'))# 0 -> Aryan, 1 -> Patel, 2 ->NIT\n",
    "\n",
    "print(\"We are {a},{b} and {c}\".format(a='Humans',b='homosapeans',c='mammals'))\n",
    "#to avoid repetation\n",
    "print('The first {p} was alright, but the {p} {p} was tough.'.format(p = 'second'))"
   ]
  },
  {
   "cell_type": "code",
   "execution_count": 1,
   "metadata": {},
   "outputs": [
    {
     "name": "stdout",
     "output_type": "stream",
     "text": [
      "Nine = 9\n",
      "a=1 b=2 c=3\n",
      "PI:3.14159\n",
      "PI:3.14159\n"
     ]
    }
   ],
   "source": [
    "#you can do same with numbers\n",
    "print(\"Nine = {}\".format(9))\n",
    "print(\"a={x} b={y} c={z}\".format(x=1,y=2,z=3))\n",
    "#for floating\n",
    "print(\"PI:{}\".format(3.14159))\n",
    "print(\"PI:{}\".format(3.14159))"
   ]
  },
  {
   "cell_type": "code",
   "execution_count": null,
   "metadata": {},
   "outputs": [],
   "source": [
    "#for floating point numbers"
   ]
  },
  {
   "cell_type": "markdown",
   "metadata": {},
   "source": [
    "# Lists\n"
   ]
  },
  {
   "cell_type": "code",
   "execution_count": null,
   "metadata": {},
   "outputs": [],
   "source": [
    "list=['Aryan','hello','emoji']\n",
    "print(list)\n",
    "print(list[0])\n",
    "print(list[1])\n",
    "print(list[2])\n",
    "print(list[-1])\n",
    "print(list[-2])\n",
    "print(list[-3])\n"
   ]
  },
  {
   "cell_type": "code",
   "execution_count": null,
   "metadata": {},
   "outputs": [],
   "source": [
    "bikes=['ninja','ducati','bmw']\n",
    "print(bikes)\n",
    "print(bikes[0].title())\n",
    "print(bikes[0].upper())\n",
    "\n",
    "print(\"My bike is \"+bikes[1])"
   ]
  },
  {
   "cell_type": "code",
   "execution_count": null,
   "metadata": {},
   "outputs": [],
   "source": [
    "#Removing an Item Using the del Statement\n",
    "#using del we can delete the element we cannot store that deleted element like we do using 'pop' statement \n",
    "comp=['hp','dell','lenovo','mac']\n",
    "del comp[0],comp[1]\n",
    "print(comp)\n"
   ]
  },
  {
   "cell_type": "code",
   "execution_count": null,
   "metadata": {},
   "outputs": [],
   "source": [
    "#using pop statement \n",
    "#if we doesn't assign element in pop it will autematicaly delete last element as shown\n",
    "maths=['algebra','calculas','geometry','probablity']\n",
    "maths.pop()\n",
    "print(maths)"
   ]
  },
  {
   "cell_type": "code",
   "execution_count": null,
   "metadata": {},
   "outputs": [],
   "source": [
    "#in pop statement element will delete also it can be stored like shown below\n",
    "p=['gandhi','ramesh','sardar','nehru']\n",
    "a=p.pop(0)\n",
    "print(p)\n",
    "\n",
    "print(a)"
   ]
  },
  {
   "cell_type": "code",
   "execution_count": null,
   "metadata": {},
   "outputs": [],
   "source": [
    "#sometimes we donot the position as list can contain too many elements we can us name of in remove statement\n",
    "#also refer notes important note is these\n",
    "p=['gandhi','ramesh','sardar','nehru']\n",
    "p.remove('ramesh')\n",
    "print(p)"
   ]
  },
  {
   "cell_type": "code",
   "execution_count": null,
   "metadata": {},
   "outputs": [],
   "source": [
    "#append\n",
    "#append will add element at last only you cannot specify position\n",
    "a=['aryan','federal','history']\n",
    "a.append('guwahati')\n",
    "print(a)\n"
   ]
  },
  {
   "cell_type": "code",
   "execution_count": null,
   "metadata": {},
   "outputs": [],
   "source": [
    "#insert()\n",
    "#in insert you can add element at a specified position\n",
    "a=['aryan','federal','history']\n",
    "a.insert(0,'gandhi')\n",
    "print(a)\n",
    "a.insert(2,'bappa')\n",
    "print(a)"
   ]
  },
  {
   "cell_type": "code",
   "execution_count": null,
   "metadata": {},
   "outputs": [],
   "source": [
    "#using sort and sorted\n",
    "#in sorted \n",
    "a=['zigmondy','asap','lol','bae']\n",
    "print(sorted(a))\n",
    "print(a)"
   ]
  },
  {
   "cell_type": "code",
   "execution_count": null,
   "metadata": {},
   "outputs": [],
   "source": [
    "a=['zigmondy','asap','lol','bae']\n",
    "a.sort()\n",
    "print(a)\n",
    "print(a)\n"
   ]
  },
  {
   "cell_type": "code",
   "execution_count": null,
   "metadata": {},
   "outputs": [],
   "source": [
    "#reverse=False means ascending order\n",
    "#reverse=True means descending order\n",
    "a=['zigmondy','asap','lol','bae']\n",
    "a.sort(reverse=False)\n",
    "print(a)\n",
    "a.sort(reverse=True)\n",
    "print(a)"
   ]
  },
  {
   "cell_type": "code",
   "execution_count": null,
   "metadata": {},
   "outputs": [],
   "source": [
    "#using reverse() we can print whole list in reverse order\n",
    "r=['gypsy','true','false','kind']\n",
    "r.reverse()\n",
    "print(r)"
   ]
  },
  {
   "cell_type": "code",
   "execution_count": null,
   "metadata": {},
   "outputs": [],
   "source": [
    "#Python’s range() function makes it easy to generate a series of numbers.\n",
    "#For example, you can use the range() function to print a series of numbers like this:\n",
    "for num in range(1,5):\n",
    "    print(num)"
   ]
  },
  {
   "cell_type": "code",
   "execution_count": null,
   "metadata": {},
   "outputs": [],
   "source": [
    "for num in range(1,7):\n",
    "    print(num)"
   ]
  },
  {
   "cell_type": "code",
   "execution_count": null,
   "metadata": {},
   "outputs": [],
   "source": [
    "#Using range() to Make a List of Numbers\n",
    "#If you want to make a list of numbers, you can convert the results of range() \n",
    "#directly into a list using the list() function. When you wrap list() around a call to the range() function,\n",
    "#the output will be a list of numbers\n",
    "a=list(range(0,5))\n",
    "print(a)"
   ]
  },
  {
   "cell_type": "markdown",
   "metadata": {},
   "source": [
    "# Tuples"
   ]
  },
  {
   "cell_type": "code",
   "execution_count": null,
   "metadata": {
    "scrolled": false
   },
   "outputs": [],
   "source": [
    "a=list(range(0,10,2))\n",
    "print(a)\n",
    "#(0,10,2) here 0 will be intial and 10 will be last & 2 will be addition number \n",
    "#i.e. intial number :0 , next number to be print:0+2=2 "
   ]
  },
  {
   "cell_type": "code",
   "execution_count": 3,
   "metadata": {},
   "outputs": [],
   "source": [
    "#what is difference between tuples and lists \n",
    "#tuples are immutable(means it can not be change)\n",
    "#while list are mutable(we can change)\n",
    "#let see in down cell"
   ]
  },
  {
   "cell_type": "code",
   "execution_count": 4,
   "metadata": {},
   "outputs": [
    {
     "ename": "TypeError",
     "evalue": "'tuple' object does not support item assignment",
     "output_type": "error",
     "traceback": [
      "\u001b[1;31m---------------------------------------------------------------------------\u001b[0m",
      "\u001b[1;31mTypeError\u001b[0m                                 Traceback (most recent call last)",
      "\u001b[1;32m<ipython-input-4-5a61f42dd505>\u001b[0m in \u001b[0;36m<module>\u001b[1;34m\u001b[0m\n\u001b[0;32m      1\u001b[0m \u001b[0ma\u001b[0m\u001b[1;33m=\u001b[0m\u001b[1;33m(\u001b[0m\u001b[1;34m'Aryan'\u001b[0m\u001b[1;33m,\u001b[0m\u001b[1;34m'Bike'\u001b[0m\u001b[1;33m)\u001b[0m\u001b[1;33m\u001b[0m\u001b[1;33m\u001b[0m\u001b[0m\n\u001b[1;32m----> 2\u001b[1;33m \u001b[0ma\u001b[0m\u001b[1;33m[\u001b[0m\u001b[1;36m0\u001b[0m\u001b[1;33m]\u001b[0m\u001b[1;33m=\u001b[0m\u001b[1;34m'Patel'\u001b[0m\u001b[1;33m\u001b[0m\u001b[1;33m\u001b[0m\u001b[0m\n\u001b[0m\u001b[0;32m      3\u001b[0m \u001b[1;31m#you cannot change elements in tuple\u001b[0m\u001b[1;33m\u001b[0m\u001b[1;33m\u001b[0m\u001b[1;33m\u001b[0m\u001b[0m\n\u001b[0;32m      4\u001b[0m \u001b[1;31m#run it u will understand\u001b[0m\u001b[1;33m\u001b[0m\u001b[1;33m\u001b[0m\u001b[1;33m\u001b[0m\u001b[0m\n",
      "\u001b[1;31mTypeError\u001b[0m: 'tuple' object does not support item assignment"
     ]
    }
   ],
   "source": [
    "a=('Aryan','Bike')\n",
    "a[0]='Patel'\n",
    "#you cannot change elements in tuple\n",
    "#run it u will understand\n",
    "#Error u will get: 'tuple' object does not support item assignment"
   ]
  },
  {
   "cell_type": "code",
   "execution_count": null,
   "metadata": {},
   "outputs": [],
   "source": [
    "#tuples have same methods as list have only difference is of changing element\n",
    "a=('fort','gangam','kp')\n",
    "for b in range(0,3):\n",
    "    print(a[b])\n",
    "    print(b)"
   ]
  },
  {
   "cell_type": "markdown",
   "metadata": {},
   "source": [
    "# Dictionary"
   ]
  },
  {
   "cell_type": "code",
   "execution_count": null,
   "metadata": {},
   "outputs": [],
   "source": [
    "#in dictionary{'a':'b'},'a' is known as keys and 'b' is known as values\n",
    "a={1:'Aryan',3:'Patel',2:'Hemant'}\n",
    "print(a[1]+\" \"+a[2]+\" \"+a[3])"
   ]
  },
  {
   "cell_type": "code",
   "execution_count": 7,
   "metadata": {},
   "outputs": [
    {
     "ename": "TypeError",
     "evalue": "can only concatenate str (not \"int\") to str",
     "output_type": "error",
     "traceback": [
      "\u001b[1;31m---------------------------------------------------------------------------\u001b[0m",
      "\u001b[1;31mTypeError\u001b[0m                                 Traceback (most recent call last)",
      "\u001b[1;32m<ipython-input-7-7f7c2bdf679e>\u001b[0m in \u001b[0;36m<module>\u001b[1;34m\u001b[0m\n\u001b[0;32m      1\u001b[0m \u001b[1;31m#important note not to forget, not related to dictionary\u001b[0m\u001b[1;33m\u001b[0m\u001b[1;33m\u001b[0m\u001b[1;33m\u001b[0m\u001b[0m\n\u001b[0;32m      2\u001b[0m \u001b[0ma\u001b[0m\u001b[1;33m=\u001b[0m\u001b[1;36m1\u001b[0m\u001b[1;33m\u001b[0m\u001b[1;33m\u001b[0m\u001b[0m\n\u001b[1;32m----> 3\u001b[1;33m \u001b[0mprint\u001b[0m\u001b[1;33m(\u001b[0m\u001b[1;34m\"Aryan\"\u001b[0m\u001b[1;33m+\u001b[0m \u001b[0ma\u001b[0m\u001b[1;33m)\u001b[0m\u001b[1;33m\u001b[0m\u001b[1;33m\u001b[0m\u001b[0m\n\u001b[0m",
      "\u001b[1;31mTypeError\u001b[0m: can only concatenate str (not \"int\") to str"
     ]
    }
   ],
   "source": []
  },
  {
   "cell_type": "code",
   "execution_count": null,
   "metadata": {},
   "outputs": [],
   "source": [
    "#not related to dictionary\n",
    "a=1\n",
    "print(a+1)"
   ]
  },
  {
   "cell_type": "code",
   "execution_count": 6,
   "metadata": {},
   "outputs": [
    {
     "name": "stdout",
     "output_type": "stream",
     "text": [
      "{'ar': 'aryan', 'ty': 'thank you'}\n",
      "{'ar': 'aryan', 'ty': 'thank you', 'LoL': 'Laugh out loud', 'asap': 'as soon as possible'}\n"
     ]
    }
   ],
   "source": [
    "#you can add elements from outside of dictionary\n",
    "a={'ar':'aryan','ty':'thank you'}\n",
    "print(a)\n",
    "a['LoL']='Laugh out loud'\n",
    "a['asap']='as soon as possible'\n",
    "\n",
    "print(a)"
   ]
  },
  {
   "cell_type": "code",
   "execution_count": null,
   "metadata": {},
   "outputs": [],
   "source": [
    "#you can also add element to emplty dictionary\n",
    "b={}\n",
    "print(b)\n",
    "b['a']='aryan'\n",
    "b['city']='surat'\n",
    "print(b)"
   ]
  },
  {
   "cell_type": "code",
   "execution_count": null,
   "metadata": {},
   "outputs": [],
   "source": [
    "#changing values\n",
    "a={'ar':'aryan','ty':'thank you'}\n",
    "print(a['ar'])\n",
    "\n",
    "a['ar']='Guwahati'\n",
    "print(a['ar'])"
   ]
  },
  {
   "cell_type": "code",
   "execution_count": null,
   "metadata": {},
   "outputs": [],
   "source": [
    "#removing elements\n",
    "a={'ar':'aryan','ty':'thank you'}\n",
    "print(a)\n",
    "\n",
    "del a['ar']\n",
    "\n",
    "print(a)"
   ]
  },
  {
   "cell_type": "code",
   "execution_count": null,
   "metadata": {},
   "outputs": [],
   "source": [
    "#there can be same information for different object as given below\n",
    "a={'ar':'aryan','ty':'aryan'}\n",
    "print(a['ar'])\n",
    "print(a['ty'])"
   ]
  },
  {
   "cell_type": "code",
   "execution_count": 9,
   "metadata": {},
   "outputs": [
    {
     "name": "stdout",
     "output_type": "stream",
     "text": [
      "Number1 is one\n",
      "Number2 is two\n",
      "Number3 is three\n"
     ]
    }
   ],
   "source": [
    "#use of items() very important\n",
    "a={'1':'one','2':'two','3':'three'}\n",
    "for l,n in a.items():\n",
    "    print('Number' +l+' is '+n)\n"
   ]
  },
  {
   "cell_type": "code",
   "execution_count": null,
   "metadata": {},
   "outputs": [],
   "source": [
    "fav_lang={'aryan':'hindi','ketan':'english','agrim':'gujarati'}\n",
    "\n",
    "friends=['ketan','agrim']\n",
    "for name in fav_lang:\n",
    "    if name in friends:\n",
    "        print(\"My friend \"+name+\" favourit language is \"+fav_lang[name].title())"
   ]
  },
  {
   "cell_type": "code",
   "execution_count": null,
   "metadata": {},
   "outputs": [],
   "source": [
    "#you can also insert list in a dictionary\n",
    "food={'gujarati':['dhokla','samosa'],'punjabi':['lassi','paneer'],'south indian':['dhosa','sambhar']}\n",
    "for people,style in food.items():\n",
    "    for fooditems in style:\n",
    "        print(people+\"food is \"+food[people])"
   ]
  },
  {
   "cell_type": "markdown",
   "metadata": {},
   "source": [
    "# If Statement"
   ]
  },
  {
   "cell_type": "code",
   "execution_count": null,
   "metadata": {},
   "outputs": [],
   "source": [
    "a=['Aryan','patel','hi','buggati']\n",
    "c='patel'\n",
    "\n",
    "if c not in a:\n",
    "    print(\"yes\")\n",
    "else:\n",
    "    print(\"no\")"
   ]
  },
  {
   "cell_type": "code",
   "execution_count": null,
   "metadata": {},
   "outputs": [],
   "source": [
    "a=16\n",
    "if a>=16:\n",
    "    print(\"yes\")"
   ]
  },
  {
   "cell_type": "code",
   "execution_count": null,
   "metadata": {},
   "outputs": [],
   "source": [
    "#elif means 'else if' as we are using c\n",
    "a='good'\n",
    "if a=='bad':\n",
    "    print(\"bad\")\n",
    "elif a=='good':\n",
    "    print(\"Good\")\n",
    "else:\n",
    "    print(\"no output\")\n"
   ]
  },
  {
   "cell_type": "code",
   "execution_count": null,
   "metadata": {},
   "outputs": [],
   "source": [
    "a='ghsadhgd'\n",
    "if a=='bad':\n",
    "    print(\"bad\")\n",
    "elif a=='good':\n",
    "    print(\"Good\")\n",
    "else:\n",
    "    print(\"no match\")\n"
   ]
  },
  {
   "cell_type": "code",
   "execution_count": null,
   "metadata": {},
   "outputs": [],
   "source": [
    "age=12\n",
    "price=list(range(0,5))\n",
    "if age<4:\n",
    "    price=0\n",
    "elif age<18:\n",
    "    price[0]=5\n",
    "\n",
    "else:\n",
    "    price=15    \n",
    "print(\"Price is \"+str(price)+\".\")"
   ]
  },
  {
   "cell_type": "markdown",
   "metadata": {},
   "source": [
    "# Functions\n"
   ]
  },
  {
   "cell_type": "code",
   "execution_count": null,
   "metadata": {
    "scrolled": false
   },
   "outputs": [],
   "source": [
    "#defining a function\n",
    "#calling a fuction\n",
    "def fnc():\n",
    "    print(\"Aryan Patel created fuction\")\n",
    " \n",
    "fnc()\n",
    "   "
   ]
  },
  {
   "cell_type": "code",
   "execution_count": null,
   "metadata": {},
   "outputs": [],
   "source": [
    "def display_message():\n",
    "    print(\"I am exciting about learning python functions\")\n",
    "    \n",
    "display_message()"
   ]
  },
  {
   "cell_type": "code",
   "execution_count": null,
   "metadata": {},
   "outputs": [],
   "source": [
    "def describe_pet(pet_name,pet_type='dog'):\n",
    "    print(\"I have a \"+pet_type)\n",
    "    print(\"His Name is \"+pet_name)\n",
    "\n",
    "describe_pet('sheru')\n",
    "print(\"\\n\")\n",
    "describe_pet('fissy','fish')"
   ]
  },
  {
   "cell_type": "code",
   "execution_count": 5,
   "metadata": {},
   "outputs": [
    {
     "name": "stdout",
     "output_type": "stream",
     "text": [
      "{'first': 'jimi', 'last': 'hendrix', 'age': 23}\n"
     ]
    }
   ],
   "source": [
    "def build_person(first_name,last_name,age):\n",
    "    person={'first':first_name,'last':last_name}\n",
    "    if age:\n",
    "        person['age']=age\n",
    "    return person\n",
    "\n",
    "musician=build_person('jimi','hendrix',23)\n",
    "print(musician)"
   ]
  },
  {
   "cell_type": "code",
   "execution_count": 15,
   "metadata": {},
   "outputs": [
    {
     "name": "stdout",
     "output_type": "stream",
     "text": [
      "In a pizza making of size 13 inch with following toppings:\n",
      "- ('cheese', 'paneer', 'veges')\n",
      "- ('cheese', 'paneer', 'veges')\n",
      "- ('cheese', 'paneer', 'veges')\n",
      "\n",
      "\n",
      "In a pizza making of size 4 inch with following toppings:\n",
      "- ('pepper',)\n",
      "In a pizza making of size 13 inch with following toppings:\n",
      "- cheese\n",
      "- paneer\n",
      "- veges\n",
      "\n",
      "\n",
      "In a pizza making of size 4 inch with following toppings:\n",
      "- pepper\n"
     ]
    }
   ],
   "source": [
    "# * this is use for list\n",
    "\n",
    "def pizza(size, *toppings):\n",
    "    print('In a pizza making of size',size,'inch with following toppings:')\n",
    "    for top in toppings:\n",
    "        print('-',toppings)\n",
    "        \n",
    "pizza('13','cheese','paneer','veges')\n",
    "print('\\n')\n",
    "pizza('4','pepper')\n",
    "\n",
    "def pizza(size, *toppings):\n",
    "    print('In a pizza making of size',size,'inch with following toppings:')\n",
    "    for top in toppings:\n",
    "        print('-',top)\n",
    "        \n",
    "pizza('13','cheese','paneer','veges')\n",
    "print('\\n')\n",
    "pizza('4','pepper')"
   ]
  },
  {
   "cell_type": "code",
   "execution_count": 17,
   "metadata": {},
   "outputs": [
    {
     "name": "stdout",
     "output_type": "stream",
     "text": [
      "{'first name': 'Aryan', 'last name': 'Patel', 'location': 'surat', 'age': '18'}\n"
     ]
    }
   ],
   "source": [
    "#** we use dictionary\n",
    "def intro(first_name,last_name,**user_info):\n",
    "    profile={}\n",
    "    profile['first name']=first_name\n",
    "    profile['last name']=last_name\n",
    "    for key,value in user_info.items():\n",
    "        profile[key]=value\n",
    "    return profile\n",
    "\n",
    "a=intro('Aryan','Patel',location='surat',age='18')\n",
    "print(a)"
   ]
  },
  {
   "cell_type": "markdown",
   "metadata": {},
   "source": [
    "# Classes and Object"
   ]
  },
  {
   "cell_type": "code",
   "execution_count": null,
   "metadata": {},
   "outputs": [],
   "source": [
    "#constructors: def __init__(self)\n",
    "#self is the first argument to be passed in Constructor and Instance Method\n",
    "#self used to access the attributes of the class"
   ]
  },
  {
   "cell_type": "code",
   "execution_count": 3,
   "metadata": {},
   "outputs": [
    {
     "name": "stdout",
     "output_type": "stream",
     "text": [
      "How many students = 3\n",
      "Name: Aryan\n",
      "Roll No.: 56\n",
      "Age: 45\n",
      "Marks(sci): 56\n",
      "Marks(Maths): 45\n",
      "Marks(Eng): 56\n",
      "Name: Parth\n",
      "Roll No.: 454\n",
      "Age: 435\n",
      "Marks(sci): 56\n",
      "Marks(Maths): 67\n",
      "Marks(Eng): 5\n",
      "Name: Juhil\n",
      "Roll No.: 23\n",
      "Age: 54\n",
      "Marks(sci): 76677\n",
      "Marks(Maths): 87\n",
      "Marks(Eng): 67\n",
      "\n",
      "\n",
      "--------Details of students--------\n",
      "Student Name is  Aryan\n",
      "\tRoll no.:  56\n",
      "\tAge:  45\n",
      "\tMarks in Science: 56 ; Maths: 45 ; English:  56\n",
      "\n",
      "\n",
      "Student Name is  Parth\n",
      "\tRoll no.:  454\n",
      "\tAge:  435\n",
      "\tMarks in Science: 56 ; Maths: 67 ; English:  5\n",
      "\n",
      "\n",
      "Student Name is  Juhil\n",
      "\tRoll no.:  23\n",
      "\tAge:  54\n",
      "\tMarks in Science: 76677 ; Maths: 87 ; English:  67\n",
      "\n",
      "\n",
      "-----------------------------------\n"
     ]
    }
   ],
   "source": [
    "class students:\n",
    "    \n",
    "    def __init__(self, name, rollno,age, m1, m2, m3):\n",
    "        self.nu=rollno\n",
    "        self.n=name\n",
    "        self.a=age\n",
    "        self.mrk1=m1\n",
    "        self.mrk2=m2\n",
    "        self.mrk3=m3\n",
    "        \n",
    "    def details(self):\n",
    "        print(\"Student Name is \",self.n)\n",
    "        print(\"\\tRoll no.: \",self.nu)\n",
    "        print(\"\\tAge: \",self.a)\n",
    "        print(\"\\tMarks in Science: \"+self.mrk1+\" ; Maths: \"+self.mrk2+\" ; English: \",self.mrk3)\n",
    "\n",
    "n=int(input(\"How many students = \"))\n",
    "s={}\n",
    "na={}\n",
    "roll={}\n",
    "ag={}\n",
    "mk1={}\n",
    "mk2={}\n",
    "mk3={}\n",
    "for i in range(1,n+1):\n",
    "    na[i]=input(\"Name: \")\n",
    "    roll[i]=input(\"Roll No.: \")\n",
    "    ag[i]=input(\"Age: \")\n",
    "    mk1[i]=input(\"Marks(sci): \")\n",
    "    mk2[i]=input(\"Marks(Maths): \")\n",
    "    mk3[i]=input(\"Marks(Eng): \")\n",
    "    \n",
    "print('\\n')\n",
    "    \n",
    "print('--------Details of students--------')\n",
    "    \n",
    "for i in range(1,n+1):\n",
    "    s[i]=students(na[i],roll[i],ag[i],mk1[i],mk2[i],mk3[i])\n",
    "    students.details(s[i])\n",
    "    print('\\n')\n",
    "\n",
    "print('-----------------------------------')\n",
    "        \n"
   ]
  },
  {
   "cell_type": "markdown",
   "metadata": {},
   "source": []
  },
  {
   "cell_type": "code",
   "execution_count": 16,
   "metadata": {},
   "outputs": [
    {
     "name": "stdout",
     "output_type": "stream",
     "text": [
      "Note: Models only 1,2,3 are available\n",
      "how many bikes: 1\n",
      "company name: \n",
      "price: \n",
      "model no.:\n",
      "\n",
      "-------------------Details of bike-----------------\n",
      "\n",
      "Company Name:  NA\n",
      "price:  NA\n",
      "mileage not defined\n"
     ]
    }
   ],
   "source": [
    "class bike:\n",
    "    def __init__(self,company,price,model):\n",
    "        self.name=company='NA'\n",
    "        self.price=price='NA'\n",
    "        self.model=model='NA'\n",
    "        \n",
    "    def details(self):\n",
    "        print(\"Company Name: \",self.name)\n",
    "        print(\"price: \",self.price)\n",
    "        \n",
    "    def mileage(self):\n",
    "        if self.model=='1':\n",
    "            print(\"mileage of \"+self.name+\" model 1 is 28\")\n",
    "            \n",
    "        if self.model=='2':\n",
    "            print(\"mileage of \"+self.name+\"model 2 is 35\")\n",
    "            \n",
    "        if self.model=='3':\n",
    "            print(\"mileage of \"+self.name+\"model 3 is 45\")\n",
    "        \n",
    "        if self.model=='NA':\n",
    "            print(\"mileage not defined\")\n",
    "            \n",
    "            \n",
    "            \n",
    "            \n",
    "print(\"Note: Models only 1,2,3 are available\")\n",
    "n=int(input(\"how many bikes: \"))\n",
    "b={}\n",
    "com={}\n",
    "prc={}\n",
    "mod={}\n",
    "for i in range(1,n+1):\n",
    "    com[i]=input(\"company name: \")\n",
    "    prc[i]=input(\"price: \")\n",
    "    mod[i]=input(\"model no.:\")\n",
    "    \n",
    "print(\"\\n-------------------Details of bike-----------------\\n\")\n",
    "    \n",
    "for i in range(1,n+1):\n",
    "    b[i]=bike(com[i],prc[i],mod[i])\n",
    "    b[i].details()\n",
    "    b[i].mileage()"
   ]
  },
  {
   "cell_type": "code",
   "execution_count": 4,
   "metadata": {},
   "outputs": [
    {
     "name": "stdout",
     "output_type": "stream",
     "text": [
      "My name is Aryan Patel.\n"
     ]
    }
   ],
   "source": [
    "class trial:\n",
    "    def __init__(self,name,last_name):\n",
    "        self.n1=name\n",
    "        self.n2=last_name\n",
    "        \n",
    "    def __str__(self):\n",
    "        return 'My name is {self.n1} {self.n2}.'.format(self=self)\n",
    "\n",
    "a=trial('Aryan','Patel')\n",
    "print(a)"
   ]
  },
  {
   "cell_type": "markdown",
   "metadata": {},
   "source": [
    "# Inheritance"
   ]
  },
  {
   "cell_type": "code",
   "execution_count": 18,
   "metadata": {},
   "outputs": [
    {
     "name": "stdout",
     "output_type": "stream",
     "text": [
      "My name is  Aryan . Roll Number is  35 . My standard is 1st standard.\n"
     ]
    }
   ],
   "source": [
    "class school:\n",
    "    def __init__(self,name,roll_no):\n",
    "        self.name=name\n",
    "        self.roll_no=roll_no\n",
    "        \n",
    "class std1(school):\n",
    "    def __init__(self,name,roll_no):\n",
    "        self.name=name\n",
    "        self.roll_no=roll_no\n",
    "\n",
    "    def intro(self):\n",
    "        print(\"My name is \",self.name,\". Roll Number is \",self.roll_no,\". My standard is 1st standard.\")\n",
    "        \n",
    "    \n",
    "        \n",
    "a=std1('Aryan','35')\n",
    "a.intro()"
   ]
  },
  {
   "cell_type": "markdown",
   "metadata": {},
   "source": [
    "# Exception Handling"
   ]
  },
  {
   "cell_type": "code",
   "execution_count": null,
   "metadata": {},
   "outputs": [],
   "source": [
    "#(try) and (except) are the words used in exception handling"
   ]
  },
  {
   "cell_type": "code",
   "execution_count": 11,
   "metadata": {},
   "outputs": [
    {
     "name": "stdout",
     "output_type": "stream",
     "text": [
      "Error\n",
      "division by zero\n"
     ]
    }
   ],
   "source": [
    "x=0\n",
    "try:\n",
    "    a=9/x\n",
    "    print(a)\n",
    "except Exception as e:\n",
    "    print('Error')\n",
    "    print(e)"
   ]
  },
  {
   "cell_type": "code",
   "execution_count": 19,
   "metadata": {},
   "outputs": [
    {
     "name": "stdout",
     "output_type": "stream",
     "text": [
      "Variable not defined\n"
     ]
    }
   ],
   "source": [
    "#for to understan\n",
    "try:\n",
    "    print(OurVar)\n",
    "except NameError:\n",
    "    print(\"Variable not defined\")\n",
    "except:\n",
    "    print(\"Other Error\")"
   ]
  },
  {
   "cell_type": "markdown",
   "metadata": {},
   "source": [
    "# Files I/O"
   ]
  },
  {
   "cell_type": "code",
   "execution_count": 1,
   "metadata": {},
   "outputs": [
    {
     "data": {
      "text/plain": [
       "'\\n\"r\"=open file for reading\\n\"w\"=open a file for writing\\n\"x\"=creates file if not exists\\n\"a\"=Add more content to a file or you can say append\\n\"t\"=text mode\\n\"b\"=binary mode\\n\"+\"=read and write \\n\\n'"
      ]
     },
     "execution_count": 1,
     "metadata": {},
     "output_type": "execute_result"
    }
   ],
   "source": [
    "# File I/O Basics\n",
    "\n",
    "# \"r\"=open file for reading\n",
    "# \"w\"=open a file for writing\n",
    "# \"x\"=creates file if not exists\n",
    "# \"a\"=Add more content to a file or you can say append\n",
    "# \"t\"=text mode\n",
    "# \"b\"=binary mode\n",
    "# \"+\"=read and write "
   ]
  },
  {
   "cell_type": "code",
   "execution_count": 36,
   "metadata": {},
   "outputs": [
    {
     "name": "stdout",
     "output_type": "stream",
     "text": [
      "Aryan Patel is in surat\n",
      "Hello World\n",
      "Hello Moto\n",
      "Bye Bye!!\n",
      "Arya\n"
     ]
    }
   ],
   "source": [
    "f=open(\"aryan.txt\",\"rt\")\n",
    "content=f.read()\n",
    "print(content)\n",
    "f.close()\n",
    "\n",
    "f1=open(\"aryan.txt\",\"rt\")\n",
    "content4=f1.read(4)\n",
    "print(content4)\n",
    "f1.close()\n"
   ]
  },
  {
   "cell_type": "code",
   "execution_count": 14,
   "metadata": {},
   "outputs": [
    {
     "name": "stdout",
     "output_type": "stream",
     "text": [
      "Aryan Patel is in surat\n",
      "\n",
      "Hello World\n",
      "\n",
      "Hello Moto\n",
      "\n",
      "Bye Bye!!1234567891011121314151617181920\n",
      "\n",
      "1234567891011121314151617181920\n",
      "Aryan Patel is in surat\n",
      "Hello World\n",
      "Hello Moto\n",
      "Bye Bye!!1234567891011121314151617181920\n",
      "1234567891011121314151617181920\n"
     ]
    }
   ],
   "source": [
    "f=open(\"Aryan.txt\",\"rt\")\n",
    "\n",
    "for a in f: #it will go line by line in aryan.txt\n",
    "    print(a)\n",
    "    \n",
    "f.close()\n",
    "\n",
    "f=open(\"Aryan.txt\",\"rt\")\n",
    "print(f.read())\n",
    "f.close()"
   ]
  },
  {
   "cell_type": "code",
   "execution_count": 39,
   "metadata": {},
   "outputs": [
    {
     "name": "stdout",
     "output_type": "stream",
     "text": [
      "I am Aryan Patel from surat,Gujarat. Studying in NIT Srinagar\n"
     ]
    }
   ],
   "source": [
    "a=input()\n",
    "f=open(\"Aryan1.txt\",\"wt\")\n",
    "f.write(a)\n",
    "f.close()"
   ]
  },
  {
   "cell_type": "code",
   "execution_count": 42,
   "metadata": {},
   "outputs": [
    {
     "name": "stdout",
     "output_type": "stream",
     "text": [
      "\n"
     ]
    }
   ],
   "source": [
    "# append in files\n",
    "a=\"\\n1234567891011121314151617181920\"\n",
    "f=open(\"Aryan.txt\",\"a+\")\n",
    "f.write(a)\n",
    "print(f.read())\n",
    "f.close()\n"
   ]
  },
  {
   "cell_type": "code",
   "execution_count": 1,
   "metadata": {},
   "outputs": [
    {
     "name": "stdout",
     "output_type": "stream",
     "text": [
      "Aryan Patel is in surat\n",
      "Hello World\n",
      "Hello Moto\n",
      "Bye Bye!!1234567891011121314151617181920\n",
      "1234567891011121314151617181920\n"
     ]
    }
   ],
   "source": [
    "#another way of writting\n",
    "file_name='Aryan.txt'\n",
    "with open(file_name) as f:\n",
    "    a=f.read()\n",
    "    print(a)"
   ]
  },
  {
   "cell_type": "code",
   "execution_count": 4,
   "metadata": {},
   "outputs": [
    {
     "name": "stdout",
     "output_type": "stream",
     "text": [
      "Aryan Patel is in surat\n",
      "\n"
     ]
    }
   ],
   "source": [
    "#readline will read only first line\n",
    "f=open(\"Aryan.txt\",\"r\")\n",
    "a=f.readline()\n",
    "print(a)"
   ]
  },
  {
   "cell_type": "markdown",
   "metadata": {},
   "source": [
    "# Numpy"
   ]
  },
  {
   "cell_type": "code",
   "execution_count": null,
   "metadata": {},
   "outputs": [],
   "source": [
    "# vectors are 1d array\n",
    "#matrix are 2d array"
   ]
  },
  {
   "cell_type": "code",
   "execution_count": 22,
   "metadata": {},
   "outputs": [
    {
     "name": "stdout",
     "output_type": "stream",
     "text": [
      "[1 2 3]\n",
      "1\n",
      "2\n",
      "3\n"
     ]
    }
   ],
   "source": [
    "#creating a simple array similar to list\n",
    "import numpy as np\n",
    "a=np.array([1,2,3])\n",
    "print(a)\n",
    "print(a[0])\n",
    "print(a[1])\n",
    "print(a[2])"
   ]
  },
  {
   "cell_type": "code",
   "execution_count": 23,
   "metadata": {},
   "outputs": [],
   "source": [
    "#3 benefits of numpy array over a python list\n",
    "#1.) less memory\n",
    "#2.) Fast\n",
    "#3.) Convinient"
   ]
  },
  {
   "cell_type": "code",
   "execution_count": 27,
   "metadata": {},
   "outputs": [
    {
     "name": "stdout",
     "output_type": "stream",
     "text": [
      "[ 0  1  2  3  4  5  6  7  8  9 10 11 12 13 14 15 16 17 18 19 20 21 22 23\n",
      " 24 25 26 27 28 29 30 31 32 33 34 35 36 37 38 39 40 41 42 43 44 45 46 47\n",
      " 48 49 50 51 52 53 54 55 56 57 58 59 60 61 62 63 64 65 66 67 68 69 70 71\n",
      " 72 73 74 75 76 77 78 79 80 81 82 83 84 85 86 87 88 89 90 91 92 93 94 95\n",
      " 96 97 98 99]\n"
     ]
    }
   ],
   "source": [
    "#if we have to make an array of continuous number\n",
    "import numpy as np\n",
    "a=np.arange(100)\n",
    "print(a)"
   ]
  },
  {
   "cell_type": "code",
   "execution_count": 29,
   "metadata": {},
   "outputs": [
    {
     "name": "stdout",
     "output_type": "stream",
     "text": [
      "[ 0  2  4  6  8 10 12 14 16 18 20 22 24 26 28 30 32 34 36 38 40 42 44 46\n",
      " 48 50 52 54 56 58 60 62 64 66 68 70 72 74 76 78 80 82 84 86 88 90 92 94\n",
      " 96 98]\n"
     ]
    }
   ],
   "source": [
    "import numpy as np\n",
    "a=np.arange(0,100,2)\n",
    "print(a)\n",
    "#extra properties of arange"
   ]
  },
  {
   "cell_type": "code",
   "execution_count": 35,
   "metadata": {},
   "outputs": [
    {
     "name": "stdout",
     "output_type": "stream",
     "text": [
      "[[1 2]\n",
      " [2 3]\n",
      " [3 4]]\n",
      "the dimension of array is 2\n"
     ]
    }
   ],
   "source": [
    "#2d array\n",
    "import numpy as np\n",
    "a=np.array([[1,2],[2,3],[3,4]])\n",
    "print(a)\n",
    "print(\"the dimension of array is \",end=\"\") #end=\"\" is used to print the next line in same line\n",
    "print(a.ndim) # ndim print dimension of array a \n",
    "#ndim can be used in 1d array"
   ]
  },
  {
   "cell_type": "code",
   "execution_count": 42,
   "metadata": {},
   "outputs": [
    {
     "data": {
      "text/plain": [
       "array([[1., 1., 1.],\n",
       "       [1., 1., 1.],\n",
       "       [1., 1., 1.]])"
      ]
     },
     "execution_count": 42,
     "metadata": {},
     "output_type": "execute_result"
    }
   ],
   "source": [
    "#generating zeroes and ones\n",
    "a=np.ones((3,3))\n",
    "a"
   ]
  },
  {
   "cell_type": "code",
   "execution_count": 43,
   "metadata": {},
   "outputs": [
    {
     "name": "stdout",
     "output_type": "stream",
     "text": [
      "[[1. 1. 1.]\n",
      " [1. 1. 1.]\n",
      " [1. 1. 1.]]\n"
     ]
    }
   ],
   "source": [
    "print(a)\n",
    "#you put directly 'a' comma will appear if you use print then comma will not appear "
   ]
  },
  {
   "cell_type": "code",
   "execution_count": 44,
   "metadata": {},
   "outputs": [],
   "source": [
    "#using linspace\n",
    "#by using linspace\n",
    "# reurns evenly spaced numbers over specified intervals"
   ]
  },
  {
   "cell_type": "code",
   "execution_count": 4,
   "metadata": {},
   "outputs": [
    {
     "name": "stdout",
     "output_type": "stream",
     "text": [
      "[ 0.   2.5  5.   7.5 10. ]\n"
     ]
    }
   ],
   "source": [
    "import numpy as np\n",
    "a=np.linspace(0,10,5)\n",
    "print(a)"
   ]
  },
  {
   "cell_type": "code",
   "execution_count": 1,
   "metadata": {},
   "outputs": [
    {
     "data": {
      "text/plain": [
       "array([0.903969  , 0.60786523, 0.9335007 , 0.72294165, 0.90961768])"
      ]
     },
     "execution_count": 1,
     "metadata": {},
     "output_type": "execute_result"
    }
   ],
   "source": [
    "# using rand\n",
    "#you can generate random array of given size\n",
    "\n",
    "import numpy as np\n",
    "np.random.rand(5)\n",
    "\n",
    "#here 5 is the how much elements should be there in array numbers are randomly generated"
   ]
  },
  {
   "cell_type": "code",
   "execution_count": 5,
   "metadata": {},
   "outputs": [
    {
     "data": {
      "text/plain": [
       "5"
      ]
     },
     "execution_count": 5,
     "metadata": {},
     "output_type": "execute_result"
    }
   ],
   "source": [
    "# using randint\n",
    "# we can generate random integer\n",
    "#\n",
    "import numpy as np\n",
    "np.random.randint(1,100)"
   ]
  },
  {
   "cell_type": "code",
   "execution_count": 1,
   "metadata": {},
   "outputs": [
    {
     "name": "stdout",
     "output_type": "stream",
     "text": [
      "None\n"
     ]
    }
   ],
   "source": [
    "a=None\n",
    "print(a)"
   ]
  },
  {
   "cell_type": "code",
   "execution_count": null,
   "metadata": {},
   "outputs": [],
   "source": []
  }
 ],
 "metadata": {
  "kernelspec": {
   "display_name": "Python 3",
   "language": "python",
   "name": "python3"
  },
  "language_info": {
   "codemirror_mode": {
    "name": "ipython",
    "version": 3
   },
   "file_extension": ".py",
   "mimetype": "text/x-python",
   "name": "python",
   "nbconvert_exporter": "python",
   "pygments_lexer": "ipython3",
   "version": "3.8.5"
  }
 },
 "nbformat": 4,
 "nbformat_minor": 4
}
